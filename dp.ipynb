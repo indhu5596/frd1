{
 "cells": [
  {
   "cell_type": "code",
   "execution_count": 1,
   "id": "6162787f",
   "metadata": {},
   "outputs": [
    {
     "name": "stdout",
     "output_type": "stream",
     "text": [
      "s e ke er j\n"
     ]
    }
   ],
   "source": [
    "print(\"s e ke er j\")"
   ]
  },
  {
   "cell_type": "code",
   "execution_count": null,
   "id": "80fa41c0",
   "metadata": {},
   "outputs": [],
   "source": []
  }
 ],
 "metadata": {
  "kernelspec": {
   "display_name": "Python 3 (ipykernel)",
   "language": "python",
   "name": "python3"
  },
  "language_info": {
   "codemirror_mode": {
    "name": "ipython",
    "version": 3
   },
   "file_extension": ".py",
   "mimetype": "text/x-python",
   "name": "python",
   "nbconvert_exporter": "python",
   "pygments_lexer": "ipython3",
   "version": "3.10.9"
  }
 },
 "nbformat": 4,
 "nbformat_minor": 5
}
